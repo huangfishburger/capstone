{
 "cells": [
  {
   "cell_type": "code",
   "execution_count": 10,
   "metadata": {},
   "outputs": [],
   "source": [
    "import pandas as pd"
   ]
  },
  {
   "cell_type": "code",
   "execution_count": 11,
   "metadata": {},
   "outputs": [],
   "source": [
    "house = pd.read_csv(\"./loc_data/house.csv\")\n",
    "pt = pd.read_csv(\"points_taipei.csv\")\n",
    "pnt = pd.read_csv(\"points_new_taipei.csv\")"
   ]
  },
  {
   "cell_type": "code",
   "execution_count": 12,
   "metadata": {},
   "outputs": [],
   "source": [
    "file_template = \"year_score/{year}_{city}_{category}.csv\"\n",
    "cities = [\"taipei\", \"new_taipei\"]\n",
    "categories = [\"edu\", \"hos\", \"trans\", \"other\"]\n",
    "years = range(2019,2025)\n",
    "\n",
    "# 初始化一個空字典來存儲所有的資料框\n",
    "yearly_merge_t = {}\n",
    "yearly_merge_nt = {}\n",
    "yearly_house = {}\n",
    "\n",
    "for year in years:\n",
    "    year_merge_t = None\n",
    "    for city in cities:\n",
    "        city_year_merge = None\n",
    "        for category in categories:\n",
    "            file_path = file_template.format(city=city, category=category, year=year)\n",
    "            try:\n",
    "                df = pd.read_csv(file_path)\n",
    "                # 如果 city_year_merge 尚未初始化，則將第一個資料集指定給 city_year_merge\n",
    "                if city_year_merge is None:\n",
    "                    city_year_merge = df\n",
    "                else:\n",
    "                    # 合併資料集\n",
    "                    city_year_merge = pd.merge(city_year_merge, df, on=['x1', 'x2', 'y1', 'y2'], how='left', suffixes=('', f'_{category}'))\n",
    "            except FileNotFoundError:\n",
    "                print(f\"檔案 {file_path} 不存在\")\n",
    "        \n",
    "        if year_merge_t is None:\n",
    "            year_merge_t = city_year_merge\n",
    "        else:\n",
    "            year_merge_nt = city_year_merge\n",
    "\n",
    "    yearly_merge_t[year] = year_merge_t\n",
    "    yearly_merge_nt[year] = year_merge_nt\n",
    "    \n",
    "    selected_columns = [\"x1\", \"y1\", \"x2\", \"y2\", f\"房源數量_{year}\", f\"平均每坪單價_{year}\", f\"交易總價_{year}\"]\n",
    "    yearly_house[year] = house[selected_columns]\n",
    "\n",
    "\n",
    "# 把每一年的 yearly_merge_t 和 yearly_house 合併\n",
    "for year, df in yearly_merge_t.items():\n",
    "    yearly_merge_t[year] = pd.merge(df, yearly_house[year], on=['x1', 'y1', 'x2', 'y2'], how='left')\n",
    "\n",
    "for year, df in yearly_merge_nt.items():\n",
    "    yearly_merge_nt[year] = pd.merge(df, yearly_house[year], on=['x1', 'y1', 'x2', 'y2'], how='left')"
   ]
  },
  {
   "cell_type": "code",
   "execution_count": 14,
   "metadata": {},
   "outputs": [],
   "source": [
    "# 把 unnamed:5 改為 district2\n",
    "for year, df in yearly_merge_t.items():\n",
    "    df.rename(columns={\"Unnamed: 5\": \"district2\"}, inplace=True)\n",
    "    df.rename(columns={'Unnamed: 6':'district3'}, inplace=True)\n",
    "    df.rename(columns={'district6':'district1'}, inplace=True)\n",
    "    \n",
    "for year, df in yearly_merge_nt.items():\n",
    "    df.rename(columns={\"Unnamed: 5\": \"district2\"}, inplace=True)\n",
    "    df.rename(columns={'Unnamed: 6':'district3'}, inplace=True)\n",
    "    df.rename(columns={'district6':'district1'}, inplace=True)\n",
    "\n",
    "\n",
    "# 把平均每坪單價空值補0\n",
    "for year, df in yearly_merge_t.items():\n",
    "    df[f\"平均每坪單價_{year}\"] = df[f\"平均每坪單價_{year}\"].fillna(0)\n",
    "\n",
    "for year, df in yearly_merge_nt.items():\n",
    "    df[f\"平均每坪單價_{year}\"] = df[f\"平均每坪單價_{year}\"].fillna(0) \n",
    "\n",
    "\n",
    "# concat 不同城市的資料集\n",
    "all_merge = {}\n",
    "for year in years:\n",
    "    all_merge[year] = pd.concat([yearly_merge_t[year], yearly_merge_nt[year]], ignore_index=True)\n",
    "\n",
    "# 寫入檔案\n",
    "for year, df in all_merge.items():\n",
    "    df.to_csv(f\"year_score/{year}_all_merge.csv\", index=False)\n",
    "for year, df in yearly_merge_t.items():\n",
    "    df.to_csv(f\"year_score/{year}_merge_taipei.csv\", index=False)\n",
    "for year, df in yearly_merge_nt.items():\n",
    "    df.to_csv(f\"year_score/{year}_merge_new_taipei.csv\", index=False)"
   ]
  }
 ],
 "metadata": {
  "kernelspec": {
   "display_name": "base",
   "language": "python",
   "name": "python3"
  },
  "language_info": {
   "codemirror_mode": {
    "name": "ipython",
    "version": 3
   },
   "file_extension": ".py",
   "mimetype": "text/x-python",
   "name": "python",
   "nbconvert_exporter": "python",
   "pygments_lexer": "ipython3",
   "version": "3.9.19"
  }
 },
 "nbformat": 4,
 "nbformat_minor": 2
}
