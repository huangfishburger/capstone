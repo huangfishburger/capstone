{
 "cells": [
  {
   "cell_type": "code",
   "execution_count": 7,
   "metadata": {},
   "outputs": [],
   "source": [
    "import geopandas as gpd\n",
    "import matplotlib.pyplot as plt\n",
    "from shapely.geometry import box, Point\n",
    "import pandas as pd"
   ]
  },
  {
   "cell_type": "code",
   "execution_count": 8,
   "metadata": {},
   "outputs": [
    {
     "data": {
      "text/html": [
       "<div>\n",
       "<style scoped>\n",
       "    .dataframe tbody tr th:only-of-type {\n",
       "        vertical-align: middle;\n",
       "    }\n",
       "\n",
       "    .dataframe tbody tr th {\n",
       "        vertical-align: top;\n",
       "    }\n",
       "\n",
       "    .dataframe thead th {\n",
       "        text-align: right;\n",
       "    }\n",
       "</style>\n",
       "<table border=\"1\" class=\"dataframe\">\n",
       "  <thead>\n",
       "    <tr style=\"text-align: right;\">\n",
       "      <th></th>\n",
       "      <th>COUNTYID</th>\n",
       "      <th>COUNTYCODE</th>\n",
       "      <th>COUNTYNAME</th>\n",
       "      <th>COUNTYENG</th>\n",
       "      <th>geometry</th>\n",
       "    </tr>\n",
       "  </thead>\n",
       "  <tbody>\n",
       "    <tr>\n",
       "      <th>0</th>\n",
       "      <td>Z</td>\n",
       "      <td>09007</td>\n",
       "      <td>連江縣</td>\n",
       "      <td>Lienchiang County</td>\n",
       "      <td>MULTIPOLYGON (((119.96445 25.94552, 119.96427 ...</td>\n",
       "    </tr>\n",
       "    <tr>\n",
       "      <th>1</th>\n",
       "      <td>G</td>\n",
       "      <td>10002</td>\n",
       "      <td>宜蘭縣</td>\n",
       "      <td>Yilan County</td>\n",
       "      <td>MULTIPOLYGON (((121.95971 24.84494, 121.96064 ...</td>\n",
       "    </tr>\n",
       "    <tr>\n",
       "      <th>2</th>\n",
       "      <td>N</td>\n",
       "      <td>10007</td>\n",
       "      <td>彰化縣</td>\n",
       "      <td>Changhua County</td>\n",
       "      <td>POLYGON ((120.45655 24.20719, 120.48589 24.197...</td>\n",
       "    </tr>\n",
       "    <tr>\n",
       "      <th>3</th>\n",
       "      <td>M</td>\n",
       "      <td>10008</td>\n",
       "      <td>南投縣</td>\n",
       "      <td>Nantou County</td>\n",
       "      <td>POLYGON ((121.27086 24.23661, 121.27108 24.236...</td>\n",
       "    </tr>\n",
       "    <tr>\n",
       "      <th>4</th>\n",
       "      <td>P</td>\n",
       "      <td>10009</td>\n",
       "      <td>雲林縣</td>\n",
       "      <td>Yunlin County</td>\n",
       "      <td>MULTIPOLYGON (((120.08108 23.52412, 120.08161 ...</td>\n",
       "    </tr>\n",
       "  </tbody>\n",
       "</table>\n",
       "</div>"
      ],
      "text/plain": [
       "  COUNTYID COUNTYCODE COUNTYNAME          COUNTYENG  \\\n",
       "0        Z      09007        連江縣  Lienchiang County   \n",
       "1        G      10002        宜蘭縣       Yilan County   \n",
       "2        N      10007        彰化縣    Changhua County   \n",
       "3        M      10008        南投縣      Nantou County   \n",
       "4        P      10009        雲林縣      Yunlin County   \n",
       "\n",
       "                                            geometry  \n",
       "0  MULTIPOLYGON (((119.96445 25.94552, 119.96427 ...  \n",
       "1  MULTIPOLYGON (((121.95971 24.84494, 121.96064 ...  \n",
       "2  POLYGON ((120.45655 24.20719, 120.48589 24.197...  \n",
       "3  POLYGON ((121.27086 24.23661, 121.27108 24.236...  \n",
       "4  MULTIPOLYGON (((120.08108 23.52412, 120.08161 ...  "
      ]
     },
     "execution_count": 8,
     "metadata": {},
     "output_type": "execute_result"
    }
   ],
   "source": [
    "Country_data = gpd.read_file(\"./country/COUNTY_MOI_1090820.shp\")\n",
    "Country_data.head()"
   ]
  },
  {
   "cell_type": "code",
   "execution_count": 9,
   "metadata": {},
   "outputs": [
    {
     "data": {
      "text/plain": [
       "<AxesSubplot:>"
      ]
     },
     "execution_count": 9,
     "metadata": {},
     "output_type": "execute_result"
    },
    {
     "data": {
      "image/png": "[encoded data removed]",
      "text/plain": [
       "<Figure size 432x288 with 1 Axes>"
      ]
     },
     "metadata": {
      "needs_background": "light"
     },
     "output_type": "display_data"
    }
   ],
   "source": [
    "Country_data = Country_data.to_crs(epsg=3826)\n",
    "\n",
    "Taipei = Country_data[(Country_data['COUNTYNAME']=='臺北市')]\n",
    "Taipei.plot()"
   ]
  },
  {
   "cell_type": "code",
   "execution_count": 10,
   "metadata": {},
   "outputs": [
    {
     "data": {
      "text/plain": [
       "<AxesSubplot:>"
      ]
     },
     "execution_count": 10,
     "metadata": {},
     "output_type": "execute_result"
    },
    {
     "data": {
      "image/png": "[encoded data removed]",
      "text/plain": [
       "<Figure size 432x288 with 1 Axes>"
      ]
     },
     "metadata": {
      "needs_background": "light"
     },
     "output_type": "display_data"
    }
   ],
   "source": [
    "Country_data = Country_data.to_crs(epsg=3826)\n",
    "\n",
    "New_Taipei = Country_data[(Country_data['COUNTYNAME']=='新北市')]\n",
    "New_Taipei.plot()"
   ]
  },
  {
   "cell_type": "code",
   "execution_count": 11,
   "metadata": {},
   "outputs": [],
   "source": [
    "def create_points(geometry, grid_size=100):\n",
    "    envelope = geometry.envelope\n",
    "    minx, miny, maxx, maxy = envelope.bounds\n",
    "    \n",
    "    cols = range(int(minx), int(maxx)+1, grid_size)\n",
    "    rows = range(int(miny), int(maxy)+1, grid_size)\n",
    "    \n",
    "    points_list = []\n",
    "    for x in cols:\n",
    "        for y in rows:\n",
    "            cell = box(x, y, x+grid_size, y+grid_size)\n",
    "            if cell.intersects(geometry):\n",
    "                points_list.append([x, y, x+grid_size, y+grid_size])\n",
    "\n",
    "    return pd.DataFrame(points_list, columns=['minx', 'miny', 'maxx', 'maxy'])\n"
   ]
  },
  {
   "cell_type": "code",
   "execution_count": 15,
   "metadata": {},
   "outputs": [],
   "source": [
    "points_taipei = Taipei['geometry'].apply(create_points)\n",
    "points_taipei.to_csv(\"points_taipei.csv\", index=False)\n",
    "\n",
    "points_new_taipei = New_Taipei['geometry'].apply(create_points)\n",
    "points_new_taipei.to_csv(\"points_new_taipei.csv\", index=False)"
   ]
  },
  {
   "cell_type": "code",
   "execution_count": 13,
   "metadata": {},
   "outputs": [
    {
     "data": {
      "image/png": "[encoded data removed]",
      "text/plain": [
       "<Figure size 720x720 with 1 Axes>"
      ]
     },
     "metadata": {
      "needs_background": "light"
     },
     "output_type": "display_data"
    }
   ],
   "source": [
    "# test that the points are created correctly\n",
    "\n",
    "df_points = pd.read_csv('points_taipei.csv')\n",
    "\n",
    "geometry = [Point(xy) for xy in zip(df_points['x1'], df_points['y1'])]\n",
    "geo_df_points = gpd.GeoDataFrame(df_points, geometry=geometry, crs='EPSG:3826')\n",
    "\n",
    "fig, ax = plt.subplots(figsize=(10, 10))\n",
    "ax.set_xlim([300000, 302000])\n",
    "ax.set_ylim([2777000, 2780000])\n",
    "Taipei.plot(ax=ax, edgecolor='black')\n",
    "\n",
    "geo_df_points.plot(ax=ax, marker='o', color='red', markersize=5)\n",
    "plt.show()\n"
   ]
  }
 ],
 "metadata": {
  "kernelspec": {
   "display_name": "base",
   "language": "python",
   "name": "python3"
  },
  "language_info": {
   "codemirror_mode": {
    "name": "ipython",
    "version": 3
   },
   "file_extension": ".py",
   "mimetype": "text/x-python",
   "name": "python",
   "nbconvert_exporter": "python",
   "pygments_lexer": "ipython3",
   "version": "3.9.7"
  }
 },
 "nbformat": 4,
 "nbformat_minor": 2
}
