{
 "cells": [
  {
   "cell_type": "code",
   "execution_count": 2,
   "id": "8adf5b8d",
   "metadata": {},
   "outputs": [],
   "source": [
    "from pyproj import Transformer\n",
    "import pandas as pd"
   ]
  },
  {
   "cell_type": "code",
   "execution_count": 10,
   "id": "96c3b91d",
   "metadata": {},
   "outputs": [],
   "source": [
    "# 讀取含有EPSG 3826坐標的檔案，假設檔案名稱為 data.csv\n",
    "df = pd.read_csv(\"points_taipei.csv\")"
   ]
  },
  {
   "cell_type": "code",
   "execution_count": 16,
   "id": "08c7eb79",
   "metadata": {},
   "outputs": [
    {
     "name": "stdout",
     "output_type": "stream",
     "text": [
      "轉換完成，結果已寫入 converted_data_taipei.csv 檔案中\n"
     ]
    }
   ],
   "source": [
    "# Taipei經緯度\n",
    "import pandas as pd\n",
    "from pyproj import Transformer\n",
    "\n",
    "# 讀取CSV檔案\n",
    "df = pd.read_csv(\"points_taipei.csv\")\n",
    "\n",
    "# 定義轉換器，從EPSG 3826 (TWD97) 轉換為 EPSG 4326 (WGS84，即經緯度坐標系統)\n",
    "transformer = Transformer.from_crs(\"epsg:3826\", \"epsg:4326\")\n",
    "\n",
    "# 將每一列的坐標進行轉換\n",
    "def convert_coordinates(row):\n",
    "    x1 = row['x1']  # x1 欄位存放了第一組 EPSG 3826 的 X 坐標\n",
    "    y1 = row['y1']  # y1 欄位存放了第一組 EPSG 3826 的 Y 坐標\n",
    "    lat1, lon1 = transformer.transform(x1, y1)  # 將第一組坐標轉換為緯度和經度\n",
    "\n",
    "    x2 = row['x2']  # x2 欄位存放了第二組 EPSG 3826 的 X 坐標\n",
    "    y2 = row['y2']  # y2 欄位存放了第二組 EPSG 3826 的 Y 坐標\n",
    "    lat2, lon2 = transformer.transform(x2, y2)  # 將第二組坐標轉換為緯度和經度\n",
    "\n",
    "    return pd.Series({'Longitude1': lon1, 'Latitude1': lat1, 'Longitude2': lon2, 'Latitude2': lat2})\n",
    "\n",
    "# 將轉換後的經緯度資料合併到原始資料框中\n",
    "df[['Longitude1', 'Latitude1', 'Longitude2', 'Latitude2']] = df.apply(convert_coordinates, axis=1)\n",
    "\n",
    "# 將結果寫入新的 CSV 檔案\n",
    "df.to_csv(\"converted_data_taipei.csv\", index=False)\n",
    "\n",
    "print(\"轉換完成，結果已寫入 converted_data_taipei.csv 檔案中\")\n"
   ]
  },
  {
   "cell_type": "code",
   "execution_count": 14,
   "id": "8f8ee488",
   "metadata": {},
   "outputs": [
    {
     "name": "stdout",
     "output_type": "stream",
     "text": [
      "轉換完成，結果已寫入 converted_data_new_taipei_city.csv 檔案中\n"
     ]
    }
   ],
   "source": [
    "# New Taipei City經緯度\n",
    "\n",
    "# 讀取CSV檔案\n",
    "new_taipei_city = pd.read_csv(\"points_new_taipei.csv\")\n",
    "\n",
    "# 定義轉換器，從EPSG 3826 (TWD97) 轉換為 EPSG 4326 (WGS84，即經緯度坐標系統)\n",
    "transformer = Transformer.from_crs(\"epsg:3826\", \"epsg:4326\")\n",
    "\n",
    "# 將每一列的坐標進行轉換\n",
    "def convert_coordinates(row):\n",
    "    x1 = row['x1']  # x1 欄位存放了第一組 EPSG 3826 的 X 坐標\n",
    "    y1 = row['y1']  # y1 欄位存放了第一組 EPSG 3826 的 Y 坐標\n",
    "    lat1, lon1 = transformer.transform(x1, y1)  # 將第一組坐標轉換為緯度和經度\n",
    "\n",
    "    x2 = row['x2']  # x2 欄位存放了第二組 EPSG 3826 的 X 坐標\n",
    "    y2 = row['y2']  # y2 欄位存放了第二組 EPSG 3826 的 Y 坐標\n",
    "    lat2, lon2 = transformer.transform(x2, y2)  # 將第二組坐標轉換為緯度和經度\n",
    "\n",
    "    return pd.Series({'Longitude1': lon1, 'Latitude1': lat1, 'Longitude2': lon2, 'Latitude2': lat2})\n",
    "\n",
    "# 將轉換後的經緯度資料合併到原始資料框中\n",
    "new_taipei_city[['Longitude1', 'Latitude1', 'Longitude2', 'Latitude2']] = new_taipei_city.apply(convert_coordinates, axis=1)\n",
    "\n",
    "# 將結果寫入新的 CSV 檔案\n",
    "new_taipei_city.to_csv(\"converted_data_new_taipei_city.csv\", index=False)\n",
    "\n",
    "print(\"轉換完成，結果已寫入 converted_data_new_taipei_city.csv 檔案中\")"
   ]
  },
  {
   "cell_type": "code",
   "execution_count": 48,
   "id": "e78c284b",
   "metadata": {},
   "outputs": [
    {
     "name": "stderr",
     "output_type": "stream",
     "text": [
      "C:\\User\\anaconda3\\lib\\site-packages\\IPython\\core\\interactiveshell.py:3165: DtypeWarning: Columns (6,8,9,10) have mixed types.Specify dtype option on import or set low_memory=False.\n",
      "  has_raised = await self.run_ast_nodes(code_ast.body, cell_name,\n"
     ]
    },
    {
     "name": "stdout",
     "output_type": "stream",
     "text": [
      "已寫入 converted_data_new_taipei_city.csv 信義房屋 檔案中\n"
     ]
    }
   ],
   "source": [
    "# 房屋統計\n",
    "import pandas as pd\n",
    "# 讀取 converted_data_taipei.csv 檔案並指定 'Store_Name' 欄位的資料類型為字串\n",
    "converted_data_df = pd.read_csv(\"converted_data_new_taipei_city.csv\", dtype={\"B\": str})\n",
    "\n",
    "# 讀取 geocode_results_台北台灣房屋.xlsx 檔案\n",
    "geocode_df = pd.read_csv(\"geocode_results_新北信義房屋.csv\", encoding='utf-8-sig')\n",
    "\n",
    "# 定義尋找對應方格索引的函數\n",
    "def find_point(row):\n",
    "    x = row['X']\n",
    "    y = row['Y']\n",
    "    for index, point_row in converted_data_df.iterrows():\n",
    "        if (point_row['Lon1'] <= x <= point_row['Lon2'] or\n",
    "            point_row['Lon2'] <= x <= point_row['Lon1']) and \\\n",
    "           (point_row['Lat1'] <= y <= point_row['Lat2'] or\n",
    "            point_row['Lat2'] <= y <= point_row['Lat1']):\n",
    "            return index\n",
    "    return None\n",
    "\n",
    "# 將 geocode_df 中的 X、Y 新增到 converted_data_df 對應方格的 X、Y 欄位中\n",
    "for index, row in geocode_df.iterrows():\n",
    "    point_index = find_point(row)\n",
    "    if point_index is not None:\n",
    "        converted_data_df.at[point_index, 'X'] = row['X']\n",
    "        converted_data_df.at[point_index, 'Y'] = row['Y']\n",
    "        \n",
    "        # 獲取已存在的 門市名稱\n",
    "        existing_store = converted_data_df.at[point_index, 'B']\n",
    "        # 如果已存在的 門市名稱 不為空，則將新的 門市名稱 附加到已存在的 門市名稱 後面，並使用分號分隔\n",
    "        if pd.notnull(existing_store):\n",
    "            new_store = f\"{existing_store};{row['門市名稱']}\"\n",
    "        else:\n",
    "            new_store = row['門市名稱']\n",
    "        converted_data_df.at[point_index, 'B'] = new_store\n",
    "\n",
    "# 將結果寫入 converted_data_taipei.csv 檔案中\n",
    "converted_data_df.to_csv(\"converted_data_new_taipei_city.csv\", index=False,encoding='utf-8-sig')\n",
    "\n",
    "print(\"已寫入 converted_data_new_taipei_city.csv 信義房屋 檔案中\")\n"
   ]
  }
 ],
 "metadata": {
  "kernelspec": {
   "display_name": "Python 3",
   "language": "python",
   "name": "python3"
  },
  "language_info": {
   "codemirror_mode": {
    "name": "ipython",
    "version": 3
   },
   "file_extension": ".py",
   "mimetype": "text/x-python",
   "name": "python",
   "nbconvert_exporter": "python",
   "pygments_lexer": "ipython3",
   "version": "3.11.5"
  }
 },
 "nbformat": 4,
 "nbformat_minor": 5
}
