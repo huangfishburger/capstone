{
 "cells": [
  {
   "cell_type": "code",
   "execution_count": 1,
   "metadata": {},
   "outputs": [
    {
     "name": "stderr",
     "output_type": "stream",
     "text": [
      "c:\\Users\\cxh83\\anaconda3\\lib\\site-packages\\pandas\\core\\computation\\expressions.py:21: UserWarning: Pandas requires version '2.8.4' or newer of 'numexpr' (version '2.7.3' currently installed).\n",
      "  from pandas.core.computation.check import NUMEXPR_INSTALLED\n",
      "c:\\Users\\cxh83\\anaconda3\\lib\\site-packages\\pandas\\core\\arrays\\masked.py:60: UserWarning: Pandas requires version '1.3.6' or newer of 'bottleneck' (version '1.3.2' currently installed).\n",
      "  from pandas.core import (\n"
     ]
    }
   ],
   "source": [
    "import pandas as pd"
   ]
  },
  {
   "cell_type": "code",
   "execution_count": 2,
   "metadata": {},
   "outputs": [
    {
     "data": {
      "text/html": [
       "<div>\n",
       "<style scoped>\n",
       "    .dataframe tbody tr th:only-of-type {\n",
       "        vertical-align: middle;\n",
       "    }\n",
       "\n",
       "    .dataframe tbody tr th {\n",
       "        vertical-align: top;\n",
       "    }\n",
       "\n",
       "    .dataframe thead th {\n",
       "        text-align: right;\n",
       "    }\n",
       "</style>\n",
       "<table border=\"1\" class=\"dataframe\">\n",
       "  <thead>\n",
       "    <tr style=\"text-align: right;\">\n",
       "      <th></th>\n",
       "      <th>POI_YM</th>\n",
       "      <th>CODE</th>\n",
       "      <th>POI_CODE</th>\n",
       "      <th>GROUP</th>\n",
       "      <th>CATEGORY</th>\n",
       "    </tr>\n",
       "  </thead>\n",
       "  <tbody>\n",
       "    <tr>\n",
       "      <th>0</th>\n",
       "      <td>202101</td>\n",
       "      <td>L</td>\n",
       "      <td>L24</td>\n",
       "      <td>民間機構</td>\n",
       "      <td>有線廣播電視系統經營者</td>\n",
       "    </tr>\n",
       "    <tr>\n",
       "      <th>1</th>\n",
       "      <td>202112</td>\n",
       "      <td>H</td>\n",
       "      <td>H01</td>\n",
       "      <td>逛街購物</td>\n",
       "      <td>百貨、購物中心</td>\n",
       "    </tr>\n",
       "    <tr>\n",
       "      <th>2</th>\n",
       "      <td>202112</td>\n",
       "      <td>J</td>\n",
       "      <td>J07</td>\n",
       "      <td>餐飲小吃</td>\n",
       "      <td>汽修保養</td>\n",
       "    </tr>\n",
       "    <tr>\n",
       "      <th>3</th>\n",
       "      <td>202112</td>\n",
       "      <td>L</td>\n",
       "      <td>L13</td>\n",
       "      <td>民間機構</td>\n",
       "      <td>廣播電台</td>\n",
       "    </tr>\n",
       "    <tr>\n",
       "      <th>4</th>\n",
       "      <td>202112</td>\n",
       "      <td>H</td>\n",
       "      <td>H13</td>\n",
       "      <td>逛街購物</td>\n",
       "      <td>流行服飾</td>\n",
       "    </tr>\n",
       "  </tbody>\n",
       "</table>\n",
       "</div>"
      ],
      "text/plain": [
       "   POI_YM CODE POI_CODE GROUP     CATEGORY\n",
       "0  202101    L      L24  民間機構  有線廣播電視系統經營者\n",
       "1  202112    H      H01  逛街購物      百貨、購物中心\n",
       "2  202112    J      J07  餐飲小吃         汽修保養\n",
       "3  202112    L      L13  民間機構         廣播電台\n",
       "4  202112    H      H13  逛街購物         流行服飾"
      ]
     },
     "execution_count": 2,
     "metadata": {},
     "output_type": "execute_result"
    }
   ],
   "source": [
    "df = pd.read_parquet('POI_CODE.parquet')\n",
    "\n",
    "df.head()"
   ]
  },
  {
   "cell_type": "code",
   "execution_count": 3,
   "metadata": {},
   "outputs": [
    {
     "name": "stdout",
     "output_type": "stream",
     "text": [
      "['有線廣播電視系統經營者' '百貨、購物中心' '汽修保養' '廣播電台' '流行服飾' '郵局' '遊憩區' '租書店' '無線熱點'\n",
      " '就業服務' '飲料店' '迷你倉庫出租' '食品製造業' '加氣站' '精品名錶' '人壽保險' '玩具店' '美甲美睫' '自行車租賃站'\n",
      " '產後護理機構' '海上設施' '電信業者' '運動休閒用品' '洗衣店' '污水處理廠' '智慧儲物櫃' '室內裝修' '充電站'\n",
      " '寵物用品店' '餐廳' '發電廠' '電視台' '一般旅館' '有機商店' '駐華使領館' '變電所' '遊樂園區' '動物醫院' '溫泉'\n",
      " '公營事業' '早餐店' '租車' '投注站' '電影院' '國家公園' '花坊' '黨部' '宗教場所' 'KTV' '露營區' '網咖'\n",
      " '美容美體' '報社' '托嬰中心' '當舖業者' '液化石油氣分裝廠' '公辦事處' '醫學中心' '咖啡店' '加油站' '國際觀光旅館'\n",
      " '寺廟古蹟' '一般觀光旅館' '商圈、商店街' '3C' '停車場' '檢驗所' '鐵路設施' '冰淇淋店' '銀行' '遊覽車公司' '診所'\n",
      " '人力仲介' '捐血站' '旅行社' '手機基地台' '麵包喜餅店' '風力發電機' '速食店' '殯葬設施' '小學' '居家護理'\n",
      " '地方政府' '書局' '洗車場' '公路設施' '產物保險' '傢俱' '夜市' '外僑學校' '鞋店' '風景特定區' '展演場所'\n",
      " '垃圾場' '物理治療所' '不動產經紀' '時尚精品' '機車行' '事務所' '屠宰業' '東南亞便利商店' 'ATM' '醫療器材行'\n",
      " '精品珠寶' '客運站' '量販店' '重型機車行' '搬運業者' '休閒農牧業區' '娛樂業場所' '食品專賣店' '運動健身' '航空站'\n",
      " '中高級校' '農會' '便當店' '國民旅遊卡特約店' '捷運設施' '圖書館' '氣體製造廠' '公車站' '旅遊諮詢中心' '超級市場'\n",
      " '助產所' '婦幼用品' '生活用品百貨' '高壓電塔' '寺廟神壇' '呼吸照護所' '便利商店' '纜車' '軍警校院' '內衣專賣店'\n",
      " '桌遊店' '社福機構' '轉運站' '地區醫院' '其他' '電擊急救' '廢棄物回收貯存場' '中央政府' '民宿' '水泥業' '美妝店'\n",
      " '自行車專賣店' '親水遊樂區' '畜牧業' '工業產業園區' '駕訓班' '幼教' '研究機構' '殯葬用品店' '影碟出租店' '職能治療所'\n",
      " '連鎖藥妝店' '休閒公園' '觀光工廠' '長照服務' '大專院校' '公共廁所' '漁會' '特教' '工廠' '康復之家' '沖印店'\n",
      " '快遞' '遠通電收' '汽車經銷商' '博物館' '特約醫事放射機構' '焚化廠' '瓦斯行' '拖吊保管場' '補習補校' '眼鏡店'\n",
      " '證券行' '區域醫院' '森林遊樂區' '警憲消防' '自助服務' '藥局' '貨運、砂石車' '市場' '美髮店' '社區大學']\n"
     ]
    }
   ],
   "source": [
    "df = pd.read_parquet('POI_CODE.parquet')\n",
    "\n",
    "# 找出CATEGORY中不重複的值\n",
    "print(df['CATEGORY'].unique())"
   ]
  },
  {
   "cell_type": "code",
   "execution_count": 4,
   "metadata": {},
   "outputs": [
    {
     "name": "stdout",
     "output_type": "stream",
     "text": [
      "     POI_YM CODE POI_CODE GROUP CATEGORY\n",
      "113  202112    H      H25  逛街購物    不動產經紀\n",
      "125  202101    H      H25  逛街購物    不動產經紀\n",
      "479  202307    H      H25  逛街購物    不動產經紀\n"
     ]
    }
   ],
   "source": [
    "# category 中是不動產經紀的資料\n",
    "print(df[df['CATEGORY'] == '不動產經紀'])"
   ]
  },
  {
   "cell_type": "code",
   "execution_count": 5,
   "metadata": {},
   "outputs": [
    {
     "data": {
      "text/html": [
       "<div>\n",
       "<style scoped>\n",
       "    .dataframe tbody tr th:only-of-type {\n",
       "        vertical-align: middle;\n",
       "    }\n",
       "\n",
       "    .dataframe tbody tr th {\n",
       "        vertical-align: top;\n",
       "    }\n",
       "\n",
       "    .dataframe thead th {\n",
       "        text-align: right;\n",
       "    }\n",
       "</style>\n",
       "<table border=\"1\" class=\"dataframe\">\n",
       "  <thead>\n",
       "    <tr style=\"text-align: right;\">\n",
       "      <th></th>\n",
       "      <th>POI_YM</th>\n",
       "      <th>POI_ID</th>\n",
       "      <th>POI_CODE</th>\n",
       "      <th>POI_LON</th>\n",
       "      <th>POI_LAT</th>\n",
       "    </tr>\n",
       "  </thead>\n",
       "  <tbody>\n",
       "    <tr>\n",
       "      <th>0</th>\n",
       "      <td>201901</td>\n",
       "      <td>761231</td>\n",
       "      <td>X12</td>\n",
       "      <td>121.437267</td>\n",
       "      <td>25.082205</td>\n",
       "    </tr>\n",
       "    <tr>\n",
       "      <th>1</th>\n",
       "      <td>201901</td>\n",
       "      <td>530441</td>\n",
       "      <td>L20</td>\n",
       "      <td>121.444501</td>\n",
       "      <td>25.091104</td>\n",
       "    </tr>\n",
       "    <tr>\n",
       "      <th>2</th>\n",
       "      <td>201901</td>\n",
       "      <td>44225</td>\n",
       "      <td>B08</td>\n",
       "      <td>121.432105</td>\n",
       "      <td>25.090700</td>\n",
       "    </tr>\n",
       "    <tr>\n",
       "      <th>3</th>\n",
       "      <td>201901</td>\n",
       "      <td>311166</td>\n",
       "      <td>H25</td>\n",
       "      <td>121.446324</td>\n",
       "      <td>25.089979</td>\n",
       "    </tr>\n",
       "    <tr>\n",
       "      <th>4</th>\n",
       "      <td>201901</td>\n",
       "      <td>531323</td>\n",
       "      <td>L20</td>\n",
       "      <td>121.432268</td>\n",
       "      <td>25.069817</td>\n",
       "    </tr>\n",
       "  </tbody>\n",
       "</table>\n",
       "</div>"
      ],
      "text/plain": [
       "   POI_YM  POI_ID POI_CODE     POI_LON    POI_LAT\n",
       "0  201901  761231      X12  121.437267  25.082205\n",
       "1  201901  530441      L20  121.444501  25.091104\n",
       "2  201901   44225      B08  121.432105  25.090700\n",
       "3  201901  311166      H25  121.446324  25.089979\n",
       "4  201901  531323      L20  121.432268  25.069817"
      ]
     },
     "execution_count": 5,
     "metadata": {},
     "output_type": "execute_result"
    }
   ],
   "source": [
    "df_poi = pd.read_parquet('POI.parquet')\n",
    "\n",
    "df_poi.head()"
   ]
  },
  {
   "cell_type": "code",
   "execution_count": 7,
   "metadata": {},
   "outputs": [
    {
     "name": "stdout",
     "output_type": "stream",
     "text": [
      "Empty DataFrame\n",
      "Columns: [POI_YM, POI_ID, POI_CODE, POI_LON, POI_LAT]\n",
      "Index: []\n"
     ]
    }
   ],
   "source": [
    "# 找出重複的資料\n",
    "print(df_poi[df_poi.duplicated()])"
   ]
  },
  {
   "cell_type": "code",
   "execution_count": 8,
   "metadata": {},
   "outputs": [
    {
     "name": "stdout",
     "output_type": "stream",
     "text": [
      "POI_YM      0\n",
      "POI_ID      0\n",
      "POI_CODE    0\n",
      "POI_LON     0\n",
      "POI_LAT     0\n",
      "dtype: int64\n"
     ]
    }
   ],
   "source": [
    "# 找出空值\n",
    "print(df_poi.isnull().sum())"
   ]
  },
  {
   "cell_type": "code",
   "execution_count": 12,
   "metadata": {},
   "outputs": [
    {
     "name": "stdout",
     "output_type": "stream",
     "text": [
      "Empty DataFrame\n",
      "Columns: [POI_YM, POI_ID, POI_CODE, POI_LON, POI_LAT]\n",
      "Index: []\n"
     ]
    }
   ],
   "source": [
    "# 找出單行經緯度重複的資料\n",
    "print(df_poi[df_poi[\"POI_LAT\"] == df_poi[\"POI_LON\"]])"
   ]
  }
 ],
 "metadata": {
  "kernelspec": {
   "display_name": "base",
   "language": "python",
   "name": "python3"
  },
  "language_info": {
   "codemirror_mode": {
    "name": "ipython",
    "version": 3
   },
   "file_extension": ".py",
   "mimetype": "text/x-python",
   "name": "python",
   "nbconvert_exporter": "python",
   "pygments_lexer": "ipython3",
   "version": "3.9.7"
  }
 },
 "nbformat": 4,
 "nbformat_minor": 2
}
