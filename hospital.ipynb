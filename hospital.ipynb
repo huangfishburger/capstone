{
 "cells": [
  {
   "cell_type": "code",
   "execution_count": 1,
   "metadata": {},
   "outputs": [],
   "source": [
    "import pandas as pd\n",
    "\n",
    "import geopandas as gpd\n",
    "from shapely.geometry import Point\n",
    "from shapely.geometry import Polygon"
   ]
  },
  {
   "cell_type": "code",
   "execution_count": 2,
   "metadata": {},
   "outputs": [],
   "source": [
    "p_taipei = pd.read_csv(\"points_taipei.csv\")\n",
    "p_taipei['index'] = range(0, len(p_taipei))\n",
    "\n",
    "p_new_taipei = pd.read_csv(\"points_new_taipei.csv\")\n",
    "p_new_taipei['index'] = range(0, len(p_new_taipei))\n",
    "\n",
    "def create_geometry_gdf(df):\n",
    "    geometry = [Polygon([(x1, y1), (x2, y1), (x2, y2), (x1, y2)]) for x1, x2, y1, y2 in zip(df['x1'], df['x2'], df['y1'], df['y2'])]\n",
    "    geometry_gdf = gpd.GeoDataFrame(geometry=geometry)\n",
    "    geometry_gdf['index'] = range(0, len(df))\n",
    "    return geometry_gdf\n",
    "\n",
    "geometry_gdf_t = create_geometry_gdf(p_taipei)\n",
    "geometry_gdf_nt = create_geometry_gdf(p_new_taipei)"
   ]
  },
  {
   "cell_type": "code",
   "execution_count": 3,
   "metadata": {},
   "outputs": [],
   "source": [
    "def hospital_data(file_path):\n",
    "        df = pd.read_csv(file_path, header=0)\n",
    "        hos1 = df[df['CATEGORY'].isin(['地區醫院', '區域醫院'])]\n",
    "        hos1_500_gdf, hos1_1000_gdf, hos1_2000_gdf = hospital_count(hos1)\n",
    "        return hos1_500_gdf, hos1_1000_gdf, hos1_2000_gdf\n",
    "        \n",
    "def hospital_count(hos):\n",
    "        # 創建一個包含醫院位置的GeoDataFrame\n",
    "        hospital_points1 = gpd.GeoDataFrame(geometry=[Point(x, y) for x, y in zip(hos['POI_X'], hos['POI_Y'])])\n",
    "\n",
    "        hos_500 = hospital_points1.buffer(500)\n",
    "        hos_1000 = hospital_points1.buffer(1000)\n",
    "        hos_2000 = hospital_points1.buffer(2000)\n",
    "\n",
    "        hos_500_gdf = gpd.GeoDataFrame(geometry=hos_500, crs=hospital_points1.crs)\n",
    "        hos_1000_gdf = gpd.GeoDataFrame(geometry=hos_1000, crs=hospital_points1.crs)\n",
    "        hos_2000_gdf = gpd.GeoDataFrame(geometry=hos_2000, crs=hospital_points1.crs)\n",
    "\n",
    "        return hos_500_gdf, hos_1000_gdf, hos_2000_gdf\n",
    "    \n",
    "\n",
    "def overlay_and_count(geometry_gdf, hospital_gdf, prefix):\n",
    "        intersection = geometry_gdf.overlay(hospital_gdf, how='intersection')\n",
    "        count_df = intersection.reset_index().groupby('index').size().reset_index(name=prefix + '_cnt')\n",
    "        return count_df\n",
    "\n",
    "def calculate_hospital_counts(geometry_gdf, hos1_500_gdf, hos1_1000_gdf, hos1_2000_gdf):\n",
    "        hos1_500_cnt = overlay_and_count(geometry_gdf, hos1_500_gdf, 'hos1_500')\n",
    "        hos1_1000_cnt = overlay_and_count(geometry_gdf, hos1_1000_gdf, 'hos1_1000')\n",
    "        hos1_2000_cnt = overlay_and_count(geometry_gdf, hos1_2000_gdf, 'hos1_2000')\n",
    "        return hos1_500_cnt, hos1_1000_cnt, hos1_2000_cnt\n",
    "\n",
    "def calculate_weighted_score(df, *args):\n",
    "        # 進行多個 merge 操作\n",
    "        for arg in args:\n",
    "            df = df.merge(arg, on='index', how='left')\n",
    "        df = df.fillna(0)\n",
    "        \n",
    "        # 計算加權分數\n",
    "        df['醫院加權分數'] = (\n",
    "            df['hos1_500_cnt'] * 0.5 +\n",
    "            df['hos1_1000_cnt'] * 0.3 +\n",
    "            df['hos1_2000_cnt'] * 0.7\n",
    "        )\n",
    "        return df\n"
   ]
  },
  {
   "cell_type": "code",
   "execution_count": 4,
   "metadata": {},
   "outputs": [],
   "source": [
    "for i in range(2019,2025):\n",
    "    hos1_500_gdf, hos1_1000_gdf, hos1_2000_gdf = hospital_data(f\"data_yaer\\{i}_hospital.csv\")\n",
    "    \n",
    "    # 呼叫函式\n",
    "    hos1_500_cnt_t, hos1_1000_cnt_t, hos1_2000_cnt_t = calculate_hospital_counts(geometry_gdf_t, hos1_500_gdf, hos1_1000_gdf, hos1_2000_gdf)\n",
    "    hos1_500_cnt_nt, hos1_1000_cnt_nt, hos1_2000_cnt_nt = calculate_hospital_counts(geometry_gdf_nt, hos1_500_gdf, hos1_1000_gdf, hos1_2000_gdf)\n",
    "\n",
    "    # 呼叫函式\n",
    "    result_t = calculate_weighted_score(p_taipei, hos1_500_cnt_t, hos1_1000_cnt_t, hos1_2000_cnt_t)\n",
    "    result_nt = calculate_weighted_score(p_new_taipei, hos1_500_cnt_nt, hos1_1000_cnt_nt, hos1_2000_cnt_nt)\n",
    "    # 寫入csv\n",
    "    result_t.to_csv(f\"year_score/{i}_taipei_hos.csv\", index=False)\n",
    "    result_nt.to_csv(f\"year_score/{i}_new_taipei_hos.csv\", index=False)\n",
    "    print(i)"
   ]
  }
 ],
 "metadata": {
  "kernelspec": {
   "display_name": "base",
   "language": "python",
   "name": "python3"
  },
  "language_info": {
   "codemirror_mode": {
    "name": "ipython",
    "version": 3
   },
   "file_extension": ".py",
   "mimetype": "text/x-python",
   "name": "python",
   "nbconvert_exporter": "python",
   "pygments_lexer": "ipython3",
   "version": "3.9.19"
  }
 },
 "nbformat": 4,
 "nbformat_minor": 2
}
