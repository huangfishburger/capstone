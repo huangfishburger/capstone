{
 "cells": [
  {
   "cell_type": "code",
   "execution_count": 2,
   "metadata": {},
   "outputs": [],
   "source": [
    "from sklearn.linear_model import LinearRegression\n",
    "import pandas as pd"
   ]
  },
  {
   "cell_type": "code",
   "execution_count": 4,
   "metadata": {},
   "outputs": [],
   "source": [
    "data = pd.read_csv('year_score/2023_all_merge.csv')"
   ]
  },
  {
   "cell_type": "code",
   "execution_count": 5,
   "metadata": {},
   "outputs": [
    {
     "data": {
      "text/plain": [
       "Index(['x1', 'y1', 'x2', 'y2', 'index', 'edu1_500_cnt', 'edu1_1000_cnt',\n",
       "       'edu1_3000_cnt', 'edu2_1000_cnt', 'edu2_2000_cnt', '學校加權分數',\n",
       "       'index_hos', 'hos1_500_cnt', 'hos1_1000_cnt', 'hos1_2000_cnt', '醫院加權分數',\n",
       "       'index_trans', 'trans1_100_cnt', 'trans1_500_cnt', 'trans1_800_cnt',\n",
       "       'trans2_500_cnt', 'trans2_1000_cnt', 'trans2_2000_cnt', '交通加權分數',\n",
       "       'index_other', 'park_100_cnt', 'park_500_cnt', 'industry_500_cnt',\n",
       "       'industry_1000_cnt', 'industry_2000_cnt', 'bad_100_cnt', 'bad_500_cnt',\n",
       "       'bad_1000_cnt', 'bad_2000_cnt', '公園加權分數', '工業區加權分數', '反向效果加權分數',\n",
       "       '房源數量_2023', '平均每坪單價_2023', '交易總價_2023'],\n",
       "      dtype='object')"
      ]
     },
     "execution_count": 5,
     "metadata": {},
     "output_type": "execute_result"
    }
   ],
   "source": [
    "data.columns"
   ]
  },
  {
   "cell_type": "code",
   "execution_count": 6,
   "metadata": {},
   "outputs": [],
   "source": [
    "# drop columns\n",
    "data = data.drop(columns=['index', '學校加權分數', '醫院加權分數', '交通加權分數', 'index_hos', 'index_other', 'index_trans', '公園加權分數', '工業區加權分數', '反向效果加權分數', '房源數量_2023','交易總價_2023'])"
   ]
  },
  {
   "cell_type": "code",
   "execution_count": 7,
   "metadata": {},
   "outputs": [],
   "source": [
    "# merge\n",
    "data = data.replace('#DIV/0!', 0)\n",
    "label = data['平均每坪單價_2023']\n",
    "\n",
    "# drop columns\n",
    "data = data.drop(columns=['x1', 'y1', 'x2', 'y2', '平均每坪單價_2023'])"
   ]
  },
  {
   "cell_type": "code",
   "execution_count": 8,
   "metadata": {},
   "outputs": [
    {
     "data": {
      "text/plain": [
       "Index(['edu1_500_cnt', 'edu1_1000_cnt', 'edu1_3000_cnt', 'edu2_1000_cnt',\n",
       "       'edu2_2000_cnt', 'hos1_500_cnt', 'hos1_1000_cnt', 'hos1_2000_cnt',\n",
       "       'trans1_100_cnt', 'trans1_500_cnt', 'trans1_800_cnt', 'trans2_500_cnt',\n",
       "       'trans2_1000_cnt', 'trans2_2000_cnt', 'park_100_cnt', 'park_500_cnt',\n",
       "       'industry_500_cnt', 'industry_1000_cnt', 'industry_2000_cnt',\n",
       "       'bad_100_cnt', 'bad_500_cnt', 'bad_1000_cnt', 'bad_2000_cnt'],\n",
       "      dtype='object')"
      ]
     },
     "execution_count": 8,
     "metadata": {},
     "output_type": "execute_result"
    }
   ],
   "source": [
    "data.columns"
   ]
  },
  {
   "cell_type": "code",
   "execution_count": 9,
   "metadata": {},
   "outputs": [
    {
     "name": "stdout",
     "output_type": "stream",
     "text": [
      "              feature  coef\n",
      "0        edu1_500_cnt -0.34\n",
      "1       edu1_1000_cnt  0.26\n",
      "2       edu1_3000_cnt  1.02\n",
      "3       edu2_1000_cnt -0.07\n",
      "4       edu2_2000_cnt  0.01\n",
      "5        hos1_500_cnt -0.25\n",
      "6       hos1_1000_cnt -0.46\n",
      "7       hos1_2000_cnt -0.98\n",
      "8      trans1_100_cnt -0.03\n",
      "9      trans1_500_cnt -0.17\n",
      "10     trans1_800_cnt  0.29\n",
      "11     trans2_500_cnt  0.31\n",
      "12    trans2_1000_cnt -0.02\n",
      "13    trans2_2000_cnt  0.22\n",
      "14       park_100_cnt -0.18\n",
      "15       park_500_cnt  0.59\n",
      "16   industry_500_cnt -0.21\n",
      "17  industry_1000_cnt  0.02\n",
      "18  industry_2000_cnt  0.12\n",
      "19        bad_100_cnt  0.01\n",
      "20        bad_500_cnt -0.00\n",
      "21       bad_1000_cnt -0.09\n",
      "22       bad_2000_cnt -0.07\n"
     ]
    }
   ],
   "source": [
    "X = data\n",
    "y = label\n",
    "\n",
    "model = LinearRegression()\n",
    "\n",
    "model.fit(X, y)\n",
    "\n",
    "coef_df = pd.DataFrame({'feature': data.columns, 'coef': model.coef_})\n",
    "coef_df['coef'] = coef_df['coef'].round(2)\n",
    "\n",
    "print(coef_df)"
   ]
  },
  {
   "cell_type": "code",
   "execution_count": 10,
   "metadata": {},
   "outputs": [
    {
     "data": {
      "text/html": [
       "<div>\n",
       "<style scoped>\n",
       "    .dataframe tbody tr th:only-of-type {\n",
       "        vertical-align: middle;\n",
       "    }\n",
       "\n",
       "    .dataframe tbody tr th {\n",
       "        vertical-align: top;\n",
       "    }\n",
       "\n",
       "    .dataframe thead th {\n",
       "        text-align: right;\n",
       "    }\n",
       "</style>\n",
       "<table border=\"1\" class=\"dataframe\">\n",
       "  <thead>\n",
       "    <tr style=\"text-align: right;\">\n",
       "      <th></th>\n",
       "      <th>feature</th>\n",
       "      <th>coef</th>\n",
       "    </tr>\n",
       "  </thead>\n",
       "  <tbody>\n",
       "    <tr>\n",
       "      <th>0</th>\n",
       "      <td>edu1_500_cnt</td>\n",
       "      <td>-0.00</td>\n",
       "    </tr>\n",
       "    <tr>\n",
       "      <th>1</th>\n",
       "      <td>edu1_1000_cnt</td>\n",
       "      <td>0.04</td>\n",
       "    </tr>\n",
       "    <tr>\n",
       "      <th>2</th>\n",
       "      <td>edu1_3000_cnt</td>\n",
       "      <td>1.03</td>\n",
       "    </tr>\n",
       "    <tr>\n",
       "      <th>3</th>\n",
       "      <td>edu2_1000_cnt</td>\n",
       "      <td>-0.07</td>\n",
       "    </tr>\n",
       "    <tr>\n",
       "      <th>4</th>\n",
       "      <td>edu2_2000_cnt</td>\n",
       "      <td>0.01</td>\n",
       "    </tr>\n",
       "    <tr>\n",
       "      <th>5</th>\n",
       "      <td>hos1_500_cnt</td>\n",
       "      <td>-0.00</td>\n",
       "    </tr>\n",
       "    <tr>\n",
       "      <th>6</th>\n",
       "      <td>hos1_1000_cnt</td>\n",
       "      <td>-0.00</td>\n",
       "    </tr>\n",
       "    <tr>\n",
       "      <th>7</th>\n",
       "      <td>hos1_2000_cnt</td>\n",
       "      <td>-0.95</td>\n",
       "    </tr>\n",
       "    <tr>\n",
       "      <th>8</th>\n",
       "      <td>trans1_100_cnt</td>\n",
       "      <td>-0.00</td>\n",
       "    </tr>\n",
       "    <tr>\n",
       "      <th>9</th>\n",
       "      <td>trans1_500_cnt</td>\n",
       "      <td>-0.17</td>\n",
       "    </tr>\n",
       "    <tr>\n",
       "      <th>10</th>\n",
       "      <td>trans1_800_cnt</td>\n",
       "      <td>0.30</td>\n",
       "    </tr>\n",
       "    <tr>\n",
       "      <th>11</th>\n",
       "      <td>trans2_500_cnt</td>\n",
       "      <td>0.10</td>\n",
       "    </tr>\n",
       "    <tr>\n",
       "      <th>12</th>\n",
       "      <td>trans2_1000_cnt</td>\n",
       "      <td>0.01</td>\n",
       "    </tr>\n",
       "    <tr>\n",
       "      <th>13</th>\n",
       "      <td>trans2_2000_cnt</td>\n",
       "      <td>0.24</td>\n",
       "    </tr>\n",
       "    <tr>\n",
       "      <th>14</th>\n",
       "      <td>park_100_cnt</td>\n",
       "      <td>-0.00</td>\n",
       "    </tr>\n",
       "    <tr>\n",
       "      <th>15</th>\n",
       "      <td>park_500_cnt</td>\n",
       "      <td>0.49</td>\n",
       "    </tr>\n",
       "    <tr>\n",
       "      <th>16</th>\n",
       "      <td>industry_500_cnt</td>\n",
       "      <td>-0.00</td>\n",
       "    </tr>\n",
       "    <tr>\n",
       "      <th>17</th>\n",
       "      <td>industry_1000_cnt</td>\n",
       "      <td>0.00</td>\n",
       "    </tr>\n",
       "    <tr>\n",
       "      <th>18</th>\n",
       "      <td>industry_2000_cnt</td>\n",
       "      <td>0.03</td>\n",
       "    </tr>\n",
       "    <tr>\n",
       "      <th>19</th>\n",
       "      <td>bad_100_cnt</td>\n",
       "      <td>-0.00</td>\n",
       "    </tr>\n",
       "    <tr>\n",
       "      <th>20</th>\n",
       "      <td>bad_500_cnt</td>\n",
       "      <td>-0.00</td>\n",
       "    </tr>\n",
       "    <tr>\n",
       "      <th>21</th>\n",
       "      <td>bad_1000_cnt</td>\n",
       "      <td>-0.09</td>\n",
       "    </tr>\n",
       "    <tr>\n",
       "      <th>22</th>\n",
       "      <td>bad_2000_cnt</td>\n",
       "      <td>-0.07</td>\n",
       "    </tr>\n",
       "  </tbody>\n",
       "</table>\n",
       "</div>"
      ],
      "text/plain": [
       "              feature  coef\n",
       "0        edu1_500_cnt -0.00\n",
       "1       edu1_1000_cnt  0.04\n",
       "2       edu1_3000_cnt  1.03\n",
       "3       edu2_1000_cnt -0.07\n",
       "4       edu2_2000_cnt  0.01\n",
       "5        hos1_500_cnt -0.00\n",
       "6       hos1_1000_cnt -0.00\n",
       "7       hos1_2000_cnt -0.95\n",
       "8      trans1_100_cnt -0.00\n",
       "9      trans1_500_cnt -0.17\n",
       "10     trans1_800_cnt  0.30\n",
       "11     trans2_500_cnt  0.10\n",
       "12    trans2_1000_cnt  0.01\n",
       "13    trans2_2000_cnt  0.24\n",
       "14       park_100_cnt -0.00\n",
       "15       park_500_cnt  0.49\n",
       "16   industry_500_cnt -0.00\n",
       "17  industry_1000_cnt  0.00\n",
       "18  industry_2000_cnt  0.03\n",
       "19        bad_100_cnt -0.00\n",
       "20        bad_500_cnt -0.00\n",
       "21       bad_1000_cnt -0.09\n",
       "22       bad_2000_cnt -0.07"
      ]
     },
     "execution_count": 10,
     "metadata": {},
     "output_type": "execute_result"
    }
   ],
   "source": [
    "# lasso\n",
    "from sklearn.linear_model import Lasso\n",
    "\n",
    "model = Lasso(alpha=0.1)\n",
    "\n",
    "model.fit(X, y)\n",
    "\n",
    "coef_df = pd.DataFrame({'feature': data.columns, 'coef': model.coef_})\n",
    "coef_df['coef'] = coef_df['coef'].round(2)\n",
    "coef_df"
   ]
  },
  {
   "cell_type": "code",
   "execution_count": 11,
   "metadata": {},
   "outputs": [
    {
     "data": {
      "text/plain": [
       "edu1_500_cnt         0.580604\n",
       "edu1_1000_cnt        0.741197\n",
       "edu1_3000_cnt        0.839910\n",
       "edu2_1000_cnt        0.680132\n",
       "edu2_2000_cnt        0.778314\n",
       "hos1_500_cnt         0.307887\n",
       "hos1_1000_cnt        0.468081\n",
       "hos1_2000_cnt        0.627355\n",
       "trans1_100_cnt       0.499545\n",
       "trans1_500_cnt       0.708402\n",
       "trans1_800_cnt       0.764669\n",
       "trans2_500_cnt       0.364966\n",
       "trans2_1000_cnt      0.511121\n",
       "trans2_2000_cnt      0.645977\n",
       "park_100_cnt         0.353837\n",
       "park_500_cnt         0.658337\n",
       "industry_500_cnt     0.157812\n",
       "industry_1000_cnt    0.262045\n",
       "industry_2000_cnt    0.400834\n",
       "bad_100_cnt          0.102146\n",
       "bad_500_cnt          0.256270\n",
       "bad_1000_cnt         0.395504\n",
       "bad_2000_cnt         0.568399\n",
       "dtype: float64"
      ]
     },
     "execution_count": 11,
     "metadata": {},
     "output_type": "execute_result"
    }
   ],
   "source": [
    "# x 對 y corr\n",
    "corr = data.corrwith(label)\n",
    "corr"
   ]
  }
 ],
 "metadata": {
  "kernelspec": {
   "display_name": "base",
   "language": "python",
   "name": "python3"
  },
  "language_info": {
   "codemirror_mode": {
    "name": "ipython",
    "version": 3
   },
   "file_extension": ".py",
   "mimetype": "text/x-python",
   "name": "python",
   "nbconvert_exporter": "python",
   "pygments_lexer": "ipython3",
   "version": "3.9.19"
  }
 },
 "nbformat": 4,
 "nbformat_minor": 2
}
