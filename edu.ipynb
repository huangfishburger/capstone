{
 "cells": [
  {
   "cell_type": "code",
   "execution_count": 13,
   "metadata": {},
   "outputs": [],
   "source": [
    "import pandas as pd\n",
    "\n",
    "import geopandas as gpd\n",
    "from shapely.geometry import Point\n",
    "from shapely.geometry import Polygon"
   ]
  },
  {
   "cell_type": "code",
   "execution_count": 14,
   "metadata": {},
   "outputs": [],
   "source": [
    "p_taipei = pd.read_csv(\"points_taipei.csv\")\n",
    "p_taipei['index'] = range(0, len(p_taipei))\n",
    "\n",
    "p_new_taipei = pd.read_csv(\"points_new_taipei.csv\")\n",
    "p_new_taipei['index'] = range(0, len(p_new_taipei))\n",
    "\n",
    "def create_geometry_gdf(df):\n",
    "    geometry = [Polygon([(x1, y1), (x2, y1), (x2, y2), (x1, y2)]) for x1, x2, y1, y2 in zip(df['x1'], df['x2'], df['y1'], df['y2'])]\n",
    "    geometry_gdf = gpd.GeoDataFrame(geometry=geometry)\n",
    "    geometry_gdf['index'] = range(0, len(df))\n",
    "    return geometry_gdf\n",
    "\n",
    "geometry_gdf_t = create_geometry_gdf(p_taipei)\n",
    "geometry_gdf_nt = create_geometry_gdf(p_new_taipei)"
   ]
  },
  {
   "cell_type": "code",
   "execution_count": 15,
   "metadata": {},
   "outputs": [],
   "source": [
    "def edu_data(file_path):\n",
    "        df = pd.read_csv(file_path, header=0)\n",
    "        edu1 = df[df['CATEGORY'].isin(['中高級校', '小學'])]\n",
    "        edu2 = df[df['CATEGORY'].isin(['補習補校', '幼教', '大專院校'])]\n",
    "        edu1_500_gdf, edu1_1000_gdf, edu1_3000_gdf = edu_count1(edu1)\n",
    "        edu2_1000_gdf, edu2_2000_gdf = edu_count2(edu2)\n",
    "\n",
    "        return edu1_500_gdf, edu1_1000_gdf, edu1_3000_gdf, edu2_1000_gdf, edu2_2000_gdf\n",
    "        \n",
    "def edu_count1(edu):\n",
    "        # 創建一個包含醫院位置的GeoDataFrame\n",
    "        edu_points1 = gpd.GeoDataFrame(geometry=[Point(x, y) for x, y in zip(edu['POI_X'], edu['POI_Y'])])\n",
    "\n",
    "        edu_500 = edu_points1.buffer(500)\n",
    "        edu_1000 = edu_points1.buffer(1000)\n",
    "        edu_3000 = edu_points1.buffer(3000)\n",
    "\n",
    "        edu_500_gdf = gpd.GeoDataFrame(geometry=edu_500, crs=edu_points1.crs)\n",
    "        edu_1000_gdf = gpd.GeoDataFrame(geometry=edu_1000, crs=edu_points1.crs)\n",
    "        edu_3000_gdf = gpd.GeoDataFrame(geometry=edu_3000, crs=edu_points1.crs)\n",
    "\n",
    "        return edu_500_gdf, edu_1000_gdf, edu_3000_gdf\n",
    "\n",
    "def edu_count2(edu):\n",
    "        # 創建一個包含醫院位置的GeoDataFrame\n",
    "        edu_points1 = gpd.GeoDataFrame(geometry=[Point(x, y) for x, y in zip(edu['POI_X'], edu['POI_Y'])])\n",
    "\n",
    "        edu_1000 = edu_points1.buffer(1000)\n",
    "        edu_2000 = edu_points1.buffer(2000)\n",
    "\n",
    "        edu_1000_gdf = gpd.GeoDataFrame(geometry=edu_1000, crs=edu_points1.crs)\n",
    "        edu_2000_gdf = gpd.GeoDataFrame(geometry=edu_2000, crs=edu_points1.crs)\n",
    "\n",
    "        return edu_1000_gdf, edu_2000_gdf\n",
    "    \n",
    "\n",
    "def overlay_and_count(geometry_gdf, edu_gdf, prefix):\n",
    "    intersection = geometry_gdf.overlay(edu_gdf, how='intersection')\n",
    "    count_df = intersection.groupby('index').size().reset_index(name=prefix + '_cnt')\n",
    "    return count_df\n",
    "\n",
    "def calculate_edu_counts(geometry_gdf, edu1_500_gdf, edu1_1000_gdf, edu1_3000_gdf, edu2_1000_gdf, edu2_2000_gdf):\n",
    "    edu1_500_cnt = overlay_and_count(geometry_gdf, edu1_500_gdf, 'edu1_500')\n",
    "    edu1_1000_cnt = overlay_and_count(geometry_gdf, edu1_1000_gdf, 'edu1_1000')\n",
    "    edu1_3000_cnt = overlay_and_count(geometry_gdf, edu1_3000_gdf, 'edu1_3000')\n",
    "    edu2_1000_cnt = overlay_and_count(geometry_gdf, edu2_1000_gdf, 'edu2_1000')\n",
    "    edu2_2000_cnt = overlay_and_count(geometry_gdf, edu2_2000_gdf, 'edu2_2000')\n",
    "    return edu1_500_cnt, edu1_1000_cnt, edu1_3000_cnt, edu2_1000_cnt, edu2_2000_cnt\n",
    "\n",
    "\n",
    "\n",
    "def calculate_weighted_score(df, *args):\n",
    "    # 進行多個 merge 操作\n",
    "    for arg in args:\n",
    "        df = df.merge(arg, on='index', how='left')\n",
    "    \n",
    "    # 將 NaN 值填充為 0\n",
    "    df = df.fillna(0)\n",
    "    \n",
    "    # 計算加權分數\n",
    "    df['學校加權分數'] = (\n",
    "        df['edu1_500_cnt'] * 0.4 +\n",
    "        df['edu1_1000_cnt'] * 0.7 +\n",
    "        df['edu1_3000_cnt'] * 1.2 +\n",
    "        df['edu2_1000_cnt'] * 0.5 +\n",
    "        df['edu2_2000_cnt'] * 0.3\n",
    "    )\n",
    "    \n",
    "    return df\n"
   ]
  },
  {
   "cell_type": "code",
   "execution_count": 16,
   "metadata": {},
   "outputs": [
    {
     "name": "stdout",
     "output_type": "stream",
     "text": [
      "2019\n",
      "2020\n",
      "2021\n",
      "2022\n",
      "2023\n",
      "2024\n"
     ]
    }
   ],
   "source": [
    "for i in range(2019,2025):\n",
    "    edu1_500_gdf, edu1_1000_gdf, edu1_3000_gdf, edu2_1000_gdf, edu2_2000_gdf = edu_data(f\"data_yaer\\{i}_edu.csv\")\n",
    "    \n",
    "    # 呼叫函式\n",
    "    edu1_500_cnt_t, edu1_1000_cnt_t, edu1_3000_cnt_t, edu2_1000_cnt_t, edu2_2000_cnt_t = calculate_edu_counts(geometry_gdf_t, edu1_500_gdf, edu1_1000_gdf, edu1_3000_gdf, edu2_1000_gdf, edu2_2000_gdf)\n",
    "    edu1_500_cnt_nt, edu1_1000_cnt_nt, edu1_3000_cnt_nt, edu2_1000_cnt_nt, edu2_2000_cnt_nt = calculate_edu_counts(geometry_gdf_nt, edu1_500_gdf, edu1_1000_gdf, edu1_3000_gdf, edu2_1000_gdf, edu2_2000_gdf)\n",
    "\n",
    "    # 呼叫函式\n",
    "    result_t = calculate_weighted_score(p_taipei, edu1_500_cnt_t, edu1_1000_cnt_t, edu1_3000_cnt_t, edu2_1000_cnt_t, edu2_2000_cnt_t)\n",
    "    result_nt = calculate_weighted_score(p_new_taipei, edu1_500_cnt_nt, edu1_1000_cnt_nt, edu1_3000_cnt_nt, edu2_1000_cnt_nt, edu2_2000_cnt_nt)\n",
    "    # 寫入csv\n",
    "    result_t.to_csv(f\"year_score/{i}_taipei_edu.csv\", index=False)\n",
    "    result_nt.to_csv(f\"year_score/{i}_new_taipei_edu.csv\", index=False)\n",
    "    print(i)"
   ]
  }
 ],
 "metadata": {
  "kernelspec": {
   "display_name": "base",
   "language": "python",
   "name": "python3"
  },
  "language_info": {
   "codemirror_mode": {
    "name": "ipython",
    "version": 3
   },
   "file_extension": ".py",
   "mimetype": "text/x-python",
   "name": "python",
   "nbconvert_exporter": "python",
   "pygments_lexer": "ipython3",
   "version": "3.9.19"
  }
 },
 "nbformat": 4,
 "nbformat_minor": 2
}
