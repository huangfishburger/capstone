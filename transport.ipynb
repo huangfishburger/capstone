{
 "cells": [
  {
   "cell_type": "code",
   "execution_count": 1,
   "metadata": {},
   "outputs": [],
   "source": [
    "import pandas as pd\n",
    "\n",
    "import geopandas as gpd\n",
    "from shapely.geometry import Point\n",
    "from shapely.geometry import Polygon"
   ]
  },
  {
   "cell_type": "code",
   "execution_count": 2,
   "metadata": {},
   "outputs": [],
   "source": [
    "p_taipei = pd.read_csv(\"points_taipei.csv\")\n",
    "p_taipei['index'] = range(0, len(p_taipei))\n",
    "\n",
    "p_new_taipei = pd.read_csv(\"points_new_taipei.csv\")\n",
    "p_new_taipei['index'] = range(0, len(p_new_taipei))\n",
    "\n",
    "def create_geometry_gdf(df):\n",
    "    geometry = [Polygon([(x1, y1), (x2, y1), (x2, y2), (x1, y2)]) for x1, x2, y1, y2 in zip(df['x1'], df['x2'], df['y1'], df['y2'])]\n",
    "    geometry_gdf = gpd.GeoDataFrame(geometry=geometry)\n",
    "    geometry_gdf['index'] = range(0, len(df))\n",
    "    return geometry_gdf\n",
    "\n",
    "geometry_gdf_t = create_geometry_gdf(p_taipei)\n",
    "geometry_gdf_nt = create_geometry_gdf(p_new_taipei)"
   ]
  },
  {
   "cell_type": "code",
   "execution_count": 3,
   "metadata": {},
   "outputs": [],
   "source": [
    "def trans_data(file_path):\n",
    "        df = pd.read_csv(file_path, header=0)\n",
    "        trans1 = df[df['CATEGORY'].isin(['公車站', '自行車租賃站','捷運設施'])]\n",
    "        trans2 = df[df['CATEGORY'].isin(['公路設施', '鐵路設施', '轉運站', '客運站'])]\n",
    "        trans1_100_gdf, trans1_500_gdf, trans1_800_gdf = trans_count1(trans1)\n",
    "        trans2_500_gdf, trans2_1000_gdf, trans2_2000_gdf = trans_count2(trans2)\n",
    "\n",
    "        return trans1_100_gdf, trans1_500_gdf, trans1_800_gdf, trans2_500_gdf, trans2_1000_gdf, trans2_2000_gdf\n",
    "        \n",
    "def trans_count1(trans):\n",
    "        # 創建一個包含醫院位置的GeoDataFrame\n",
    "        trans_points1 = gpd.GeoDataFrame(geometry=[Point(x, y) for x, y in zip(trans['POI_X'], trans['POI_Y'])])\n",
    "        \n",
    "        trans_100 = trans_points1.buffer(100)\n",
    "        trans_500 = trans_points1.buffer(500)\n",
    "        trans_800 = trans_points1.buffer(800)\n",
    "\n",
    "        trans_100_gdf = gpd.GeoDataFrame(geometry=trans_100, crs=trans_points1.crs)\n",
    "        trans_500_gdf = gpd.GeoDataFrame(geometry=trans_500, crs=trans_points1.crs)\n",
    "        trans_800_gdf = gpd.GeoDataFrame(geometry=trans_800, crs=trans_points1.crs)\n",
    "\n",
    "        return trans_100_gdf, trans_500_gdf, trans_800_gdf\n",
    "\n",
    "def trans_count2(trans):\n",
    "        # 創建一個包含醫院位置的GeoDataFrame\n",
    "        trans_points2 = gpd.GeoDataFrame(geometry=[Point(x, y) for x, y in zip(trans['POI_X'], trans['POI_Y'])])\n",
    "\n",
    "        trans_500 = trans_points2.buffer(500)\n",
    "        trans_1000 = trans_points2.buffer(1000)\n",
    "        trans_2000 = trans_points2.buffer(2000)\n",
    "\n",
    "        trans_500_gdf = gpd.GeoDataFrame(geometry=trans_500, crs=trans_points2.crs)\n",
    "        trans_1000_gdf = gpd.GeoDataFrame(geometry=trans_1000, crs=trans_points2.crs)\n",
    "        trans_2000_gdf = gpd.GeoDataFrame(geometry=trans_2000, crs=trans_points2.crs)\n",
    "\n",
    "        return trans_500_gdf, trans_1000_gdf, trans_2000_gdf\n",
    "    \n",
    "\n",
    "def overlay_and_count(geometry_gdf, trans_gdf, prefix):\n",
    "    intersection = geometry_gdf.overlay(trans_gdf, how='intersection')\n",
    "    count_df = intersection.groupby('index').size().reset_index(name=prefix + '_cnt')\n",
    "    return count_df\n",
    "\n",
    "def calculate_trans_counts(geometry_gdf, trans1_100_gdf, trans1_500_gdf, trans1_800_gdf, trans2_500_gdf, trans2_1000_gdf, trans2_2000_gdf):\n",
    "    trans1_100_cnt = overlay_and_count(geometry_gdf, trans1_100_gdf, 'trans1_100')\n",
    "    trans1_500_cnt = overlay_and_count(geometry_gdf, trans1_500_gdf, 'trans1_500')\n",
    "    trans1_800_cnt = overlay_and_count(geometry_gdf, trans1_800_gdf, 'trans1_800')\n",
    "    trans2_500_cnt = overlay_and_count(geometry_gdf, trans2_500_gdf, 'trans2_500')\n",
    "    trans2_1000_cnt = overlay_and_count(geometry_gdf, trans2_1000_gdf, 'trans2_1000')\n",
    "    trans2_2000_cnt = overlay_and_count(geometry_gdf, trans2_2000_gdf, 'trans2_2000')\n",
    "    return trans1_100_cnt, trans1_500_cnt, trans1_800_cnt, trans2_500_cnt, trans2_1000_cnt, trans2_2000_cnt\n",
    "\n",
    "\n",
    "def calculate_weighted_score(df, *args):\n",
    "    # 進行多個 merge 操作\n",
    "    for arg in args:\n",
    "        df = df.merge(arg, on='index', how='left')\n",
    "    \n",
    "    # 將 NaN 值填充為 0\n",
    "    df = df.fillna(0)\n",
    "    \n",
    "    # 計算加權分數\n",
    "    df['交通加權分數'] = (\n",
    "        df['trans1_100_cnt'] * 1 +\n",
    "        df['trans1_500_cnt'] * 0.6 +\n",
    "        df['trans1_800_cnt'] * 0.3 +\n",
    "        df['trans2_500_cnt'] * 0.6 +\n",
    "        df['trans2_1000_cnt'] * 0.2 +\n",
    "        df['trans2_2000_cnt'] * 0.5\n",
    "    )\n",
    "    \n",
    "    return df\n"
   ]
  },
  {
   "cell_type": "code",
   "execution_count": 4,
   "metadata": {},
   "outputs": [
    {
     "name": "stdout",
     "output_type": "stream",
     "text": [
      "2019\n",
      "2020\n",
      "2021\n",
      "2022\n",
      "2023\n",
      "2024\n"
     ]
    }
   ],
   "source": [
    "for i in range(2019,2025):\n",
    "    trans1_100_gdf, trans1_500_gdf, trans1_800_gdf, trans2_500_gdf, trans2_1000_gdf, trans2_2000_gdf = trans_data(f\"data_yaer\\{i}_transport.csv\")\n",
    "    \n",
    "    # 呼叫函式\n",
    "    trans1_100_cnt_t, trans1_500_cnt_t, trans1_800_cnt_t, trans2_500_cnt_t, trans2_1000_cnt_t, trans2_2000_cnt_t = calculate_trans_counts(geometry_gdf_t, trans1_100_gdf, trans1_500_gdf, trans1_800_gdf, trans2_500_gdf, trans2_1000_gdf, trans2_2000_gdf)\n",
    "    trans1_100_cnt_nt, trans1_500_cnt_nt, trans1_800_cnt_nt, trans2_500_cnt_nt, trans2_1000_cnt_nt, trans2_2000_cnt_nt = calculate_trans_counts(geometry_gdf_nt, trans1_100_gdf, trans1_500_gdf, trans1_800_gdf, trans2_500_gdf, trans2_1000_gdf, trans2_2000_gdf)\n",
    "\n",
    "    # 呼叫函式\n",
    "    result_t = calculate_weighted_score(p_taipei, trans1_100_cnt_t, trans1_500_cnt_t, trans1_800_cnt_t, trans2_500_cnt_t, trans2_1000_cnt_t, trans2_2000_cnt_t)\n",
    "    result_nt = calculate_weighted_score(p_new_taipei, trans1_100_cnt_nt, trans1_500_cnt_nt, trans1_800_cnt_nt, trans2_500_cnt_nt, trans2_1000_cnt_nt, trans2_2000_cnt_nt)\n",
    "    # 寫入csv\n",
    "    result_t.to_csv(f\"{i}_taipei_trans.csv\", index=False)\n",
    "    result_nt.to_csv(f\"{i}_new_taipei_trans.csv\", index=False)\n",
    "    print(i)"
   ]
  }
 ],
 "metadata": {
  "kernelspec": {
   "display_name": "base",
   "language": "python",
   "name": "python3"
  },
  "language_info": {
   "codemirror_mode": {
    "name": "ipython",
    "version": 3
   },
   "file_extension": ".py",
   "mimetype": "text/x-python",
   "name": "python",
   "nbconvert_exporter": "python",
   "pygments_lexer": "ipython3",
   "version": "3.9.19"
  }
 },
 "nbformat": 4,
 "nbformat_minor": 2
}
