{
 "cells": [
  {
   "cell_type": "code",
   "execution_count": 4,
   "id": "8adf5b8d",
   "metadata": {},
   "outputs": [],
   "source": [
    "from pyproj import Transformer\n",
    "import pandas as pd"
   ]
  },
  {
   "cell_type": "code",
   "execution_count": 26,
   "id": "4e6c97dd",
   "metadata": {},
   "outputs": [
    {
     "name": "stdout",
     "output_type": "stream",
     "text": [
      "已保存處理後的公園_data.csv文件\n"
     ]
    }
   ],
   "source": [
    "# 排除公園 'POI_LON', 'POI_LAT' 重複值\n",
    "df = pd.read_csv(\"公園.csv\")\n",
    "\n",
    "# 將POI_YM列轉換為整數型別\n",
    "df['POI_YM'] = df['POI_YM'].astype(int)\n",
    "\n",
    "# 根據POI_YM列的值進行分組，保留POI_YM最大的數值資料，並刪除其他重複的數據\n",
    "df = df.sort_values(by='POI_YM', ascending=False).drop_duplicates(subset=['POI_LON', 'POI_LAT'])\n",
    "\n",
    "# 將處理後的DataFrame保存回CSV文件\n",
    "df.to_csv(\"公園_new.csv\", index=False)\n",
    "\n",
    "print(\"公園_new.csv文件\")\n"
   ]
  },
  {
   "cell_type": "code",
   "execution_count": 27,
   "id": "2955b723",
   "metadata": {},
   "outputs": [
    {
     "name": "stdout",
     "output_type": "stream",
     "text": [
      "垃圾場_new.csv文件\n"
     ]
    }
   ],
   "source": [
    "# 排除垃圾場 'POI_LON', 'POI_LAT' 重複值\n",
    "df_2 = pd.read_csv(\"垃圾場.csv\")\n",
    "\n",
    "# 將POI_YM列轉換為整數型別\n",
    "df_2['POI_YM'] = df_2['POI_YM'].astype(int)\n",
    "\n",
    "# 根據POI_YM列的值進行分組，保留POI_YM最大的數值資料，並刪除其他重複的數據\n",
    "df_2 = df_2.sort_values(by='POI_YM', ascending=False).drop_duplicates(subset=['POI_LON', 'POI_LAT'])\n",
    "\n",
    "# 將處理後的DataFrame保存回CSV文件\n",
    "df_2.to_csv(\"垃圾場_new.csv\", index=False)\n",
    "\n",
    "print(\"垃圾場_new.csv文件\")\n"
   ]
  },
  {
   "cell_type": "code",
   "execution_count": 32,
   "id": "fcbc8eef",
   "metadata": {},
   "outputs": [
    {
     "name": "stdout",
     "output_type": "stream",
     "text": [
      "產業工業園區_new.csv文件\n"
     ]
    }
   ],
   "source": [
    "# 排除產業工業園區 'POI_LON', 'POI_LAT' 重複值\n",
    "df_3 = pd.read_csv(\"產業工業園區.csv\")\n",
    "\n",
    "# 將POI_YM列轉換為整數型別\n",
    "df_3['POI_YM'] = df_3['POI_YM'].astype(int)\n",
    "\n",
    "# 根據POI_YM列的值進行分組，保留POI_YM最大的數值資料，並刪除其他重複的數據\n",
    "df_3 = df_3.sort_values(by='POI_YM', ascending=False).drop_duplicates(subset=['POI_LON', 'POI_LAT'])\n",
    "\n",
    "# 將處理後的DataFrame保存回CSV文件\n",
    "df_3.to_csv(\"產業工業園區_new.csv\", index=False)\n",
    "\n",
    "print(\"產業工業園區_new.csv文件\")\n"
   ]
  },
  {
   "cell_type": "code",
   "execution_count": 33,
   "id": "1826a5f1",
   "metadata": {},
   "outputs": [
    {
     "name": "stdout",
     "output_type": "stream",
     "text": [
      "焚化廠_new.csv文件\n"
     ]
    }
   ],
   "source": [
    "# 排除焚化廠 'POI_LON', 'POI_LAT' 重複值\n",
    "df_4 = pd.read_csv(\"焚化廠.csv\")\n",
    "\n",
    "# 將POI_YM列轉換為整數型別\n",
    "df_4['POI_YM'] = df_4['POI_YM'].astype(int)\n",
    "\n",
    "# 根據POI_YM列的值進行分組，保留POI_YM最大的數值資料，並刪除其他重複的數據\n",
    "df_4 = df_4.sort_values(by='POI_YM', ascending=False).drop_duplicates(subset=['POI_LON', 'POI_LAT'])\n",
    "\n",
    "# 將處理後的DataFrame保存回CSV文件\n",
    "df_4.to_csv(\"焚化廠_new.csv\", index=False)\n",
    "\n",
    "print(\"焚化廠_new.csv文件\")\n"
   ]
  },
  {
   "cell_type": "code",
   "execution_count": 35,
   "id": "da85e2ae",
   "metadata": {},
   "outputs": [
    {
     "name": "stdout",
     "output_type": "stream",
     "text": [
      "殯葬設施_new.csv文件\n"
     ]
    }
   ],
   "source": [
    "# 排除殯葬設施 'POI_LON', 'POI_LAT' 重複值\n",
    "df_5 = pd.read_csv(\"殯葬設施.csv\")\n",
    "\n",
    "# 將POI_YM列轉換為整數型別\n",
    "df_5['POI_YM'] = df_5['POI_YM'].astype(int)\n",
    "\n",
    "# 根據POI_YM列的值進行分組，保留POI_YM最大的數值資料，並刪除其他重複的數據\n",
    "df_5 = df_5.sort_values(by='POI_YM', ascending=False).drop_duplicates(subset=['POI_LON', 'POI_LAT'])\n",
    "\n",
    "# 將處理後的DataFrame保存回CSV文件\n",
    "df_5.to_csv(\"殯葬設施_new.csv\", index=False)\n",
    "\n",
    "print(\"殯葬設施_new.csv文件\")\n"
   ]
  },
  {
   "cell_type": "code",
   "execution_count": 43,
   "id": "78fb02c4",
   "metadata": {},
   "outputs": [
    {
     "name": "stdout",
     "output_type": "stream",
     "text": [
      "             Lon1       Lat1        Lon2       Lat2   X   Y   公園  產業工業園區  垃圾場  \\\n",
      "0      121.457125  25.105445  121.458119  25.106345 NaN NaN  NaN     NaN  NaN   \n",
      "1      121.457128  25.106348  121.458123  25.107248 NaN NaN  NaN     NaN  NaN   \n",
      "2      121.457131  25.107251  121.458126  25.108151 NaN NaN  NaN     NaN  NaN   \n",
      "3      121.457135  25.108154  121.458129  25.109054 NaN NaN  NaN     NaN  NaN   \n",
      "4      121.457138  25.109057  121.458133  25.109956 NaN NaN  NaN     NaN  NaN   \n",
      "...           ...        ...         ...        ...  ..  ..  ...     ...  ...   \n",
      "27656  121.664917  25.027019  121.665913  25.027918 NaN NaN  NaN     NaN  NaN   \n",
      "27657  121.664922  25.027922  121.665918  25.028820 NaN NaN  NaN     NaN  NaN   \n",
      "27658  121.664927  25.028825  121.665922  25.029723 NaN NaN  NaN     NaN  NaN   \n",
      "27659  121.664931  25.029728  121.665927  25.030626 NaN NaN  NaN     NaN  NaN   \n",
      "27660  121.665922  25.029723  121.666918  25.030622 NaN NaN  NaN     NaN  NaN   \n",
      "\n",
      "       焚化廠  殯葬設施  \n",
      "0      NaN   NaN  \n",
      "1      NaN   NaN  \n",
      "2      NaN   NaN  \n",
      "3      NaN   NaN  \n",
      "4      NaN   NaN  \n",
      "...    ...   ...  \n",
      "27656  NaN   NaN  \n",
      "27657  NaN   NaN  \n",
      "27658  NaN   NaN  \n",
      "27659  NaN   NaN  \n",
      "27660  NaN   NaN  \n",
      "\n",
      "[27661 rows x 11 columns]\n"
     ]
    }
   ],
   "source": [
    "converted_data = pd.read_csv(\"converted_data_new_taipei_city.csv\",encoding='utf-8-sig',dtype={\"公園\": str})\n",
    "print(converted_data)"
   ]
  },
  {
   "cell_type": "code",
   "execution_count": null,
   "id": "69177c75",
   "metadata": {},
   "outputs": [],
   "source": [
    "#區域發展指標統計_版本1\n",
    "import pandas as pd\n",
    "# 讀取 converted_data_taipei.csv 檔案並指定 'Store_Name' 欄位的資料類型為字串\n",
    "converted_data_df = pd.read_csv(\"converted_data_new_taipei_city.csv\", dtype={\"E\": str})\n",
    "\n",
    "# 讀取 公園_data.xlsx 檔案\n",
    "geocode_df = pd.read_csv(\"殯葬設施_new.csv\", encoding='utf-8-sig')\n",
    "\n",
    "# 定義尋找對應方格索引的函數\n",
    "def find_point(row):\n",
    "    x = row['POI_LON']\n",
    "    y = row['POI_LAT']\n",
    "    for index, point_row in converted_data_df.iterrows():\n",
    "        if (point_row['Lon1'] <= x <= point_row['Lon2'] or\n",
    "            point_row['Lon2'] <= x <= point_row['Lon1']) and \\\n",
    "           (point_row['Lat1'] <= y <= point_row['Lat2'] or\n",
    "            point_row['Lat2'] <= y <= point_row['Lat1']):\n",
    "            return index\n",
    "    return None\n",
    "\n",
    "# 將 geocode_df 中的 X、Y 新增到 converted_data_df 對應方格的 X、Y 欄位中\n",
    "for index, row in geocode_df.iterrows():\n",
    "    point_index = find_point(row)\n",
    "    if point_index is not None:\n",
    "        converted_data_df.at[point_index, 'X'] = row['POI_LON']\n",
    "        converted_data_df.at[point_index, 'Y'] = row['POI_LAT']\n",
    "         # 獲取已存在的 POI_ID\n",
    "        existing_poi_id = converted_data_df.at[point_index, 'E']\n",
    "        # 如果已存在的 POI_ID 不為空，則將新的 POI_ID 附加到已存在的 POI_ID 後面，並使用分號分隔\n",
    "        if pd.notnull(existing_poi_id):\n",
    "            new_poi_id = f\"{existing_poi_id};{row['POI_ID']}\"\n",
    "        else:\n",
    "            new_poi_id = row['POI_ID']\n",
    "        converted_data_df.at[point_index, 'E'] = new_poi_id\n",
    "        \n",
    "# 將結果寫入 converted_data_taipei.csv 檔案中\n",
    "converted_data_df.to_csv(\"converted_data_new_taipei_city.csv\", index=False,encoding='utf-8-sig')\n",
    "\n",
    "print(\"已寫入 converted_data_new_taipei_city.csv 殯葬設施 檔案中\")"
   ]
  },
  {
   "cell_type": "code",
   "execution_count": null,
   "id": "43830d28",
   "metadata": {},
   "outputs": [],
   "source": [
    "#區域發展指標統計_版本2\n",
    "\n",
    "import pandas as pd\n",
    "\n",
    "# 讀取 converted_data_taipei.csv 檔案並指定 'Store_Name' 欄位的資料類型為字串\n",
    "converted_data_df = pd.read_csv(\"converted_data_new_taipei_city.csv\", dtype={\"A\": str})\n",
    "\n",
    "# 讀取 公園_data.xlsx 檔案\n",
    "geocode_df = pd.read_csv(\"公園_new.csv\", encoding='utf-8-sig')\n",
    "\n",
    "# 定義尋找對應方格索引的函數\n",
    "def find_point(row, converted_data_df):\n",
    "    x = row['POI_LON']\n",
    "    y = row['POI_LAT']\n",
    "    \n",
    "    # 使用向量化操作來找到對應方格的索引\n",
    "    index = ((converted_data_df['Lon1'] <= x) & (x <= converted_data_df['Lon2']) | \n",
    "             (converted_data_df['Lon2'] <= x) & (x <= converted_data_df['Lon1'])) & \\\n",
    "            ((converted_data_df['Lat1'] <= y) & (y <= converted_data_df['Lat2']) | \n",
    "             (converted_data_df['Lat2'] <= y) & (y <= converted_data_df['Lat1']))\n",
    "    \n",
    "    if index.any():\n",
    "        return index.idxmax()\n",
    "    else:\n",
    "        return None\n",
    "\n",
    "# 將 geocode_df 中的 X、Y 新增到 converted_data_df 對應方格的 X、Y 欄位中\n",
    "geocode_df['point_index'] = geocode_df.apply(lambda row: find_point(row, converted_data_df), axis=1)\n",
    "\n",
    "# 將找到的 POI_ID 添加到 converted_data_df 中\n",
    "for _, row in geocode_df.iterrows():\n",
    "    if not pd.isnull(row['point_index']):  # 檢查 point_index 是否為 NaN\n",
    "        # 獲取已存在的 POI_ID\n",
    "        existing_poi_id = converted_data_df.at[row['point_index'], 'A']\n",
    "        # 如果已存在的 POI_ID 不為空，則將新的 POI_ID 附加到已存在的 POI_ID 後面，並使用分號分隔\n",
    "        if pd.notnull(existing_poi_id):\n",
    "            new_poi_id = f\"{existing_poi_id};{row['POI_ID']}\"\n",
    "        else:\n",
    "            new_poi_id = row['POI_ID']\n",
    "        converted_data_df.at[row['point_index'], 'A'] = new_poi_id\n",
    "        # 更新 X、Y 欄位\n",
    "        converted_data_df.at[row['point_index'], 'X'] = row['POI_LON']\n",
    "        converted_data_df.at[row['point_index'], 'Y'] = row['POI_LAT']\n",
    "\n",
    "# 將結果寫入 converted_data_taipei.csv 檔案中\n",
    "converted_data_df.to_csv(\"converted_data_new_taipei_city.csv\", index=False, encoding='utf-8-sig')\n",
    "\n",
    "print(\"已寫入 converted_data_new_taipei_city.csv 公園 檔案中\")"
   ]
  }
 ],
 "metadata": {
  "kernelspec": {
   "display_name": "Python 3",
   "language": "python",
   "name": "python3"
  },
  "language_info": {
   "codemirror_mode": {
    "name": "ipython",
    "version": 3
   },
   "file_extension": ".py",
   "mimetype": "text/x-python",
   "name": "python",
   "nbconvert_exporter": "python",
   "pygments_lexer": "ipython3",
   "version": "3.11.5"
  }
 },
 "nbformat": 4,
 "nbformat_minor": 5
}
